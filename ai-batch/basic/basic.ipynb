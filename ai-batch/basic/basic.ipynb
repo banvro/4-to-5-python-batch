{
 "cells": [
  {
   "cell_type": "code",
   "execution_count": 1,
   "id": "78371388",
   "metadata": {},
   "outputs": [],
   "source": [
    "a = 10"
   ]
  },
  {
   "cell_type": "code",
   "execution_count": 2,
   "id": "a0ba7e2d",
   "metadata": {},
   "outputs": [],
   "source": [
    "b = 20\n",
    "c = a + b"
   ]
  },
  {
   "cell_type": "code",
   "execution_count": 3,
   "id": "71dd8f43",
   "metadata": {},
   "outputs": [
    {
     "data": {
      "text/plain": [
       "30"
      ]
     },
     "execution_count": 3,
     "metadata": {},
     "output_type": "execute_result"
    }
   ],
   "source": [
    "c"
   ]
  },
  {
   "cell_type": "code",
   "execution_count": null,
   "id": "da3f2a29",
   "metadata": {},
   "outputs": [],
   "source": []
  },
  {
   "cell_type": "code",
   "execution_count": 5,
   "id": "251f4c60",
   "metadata": {},
   "outputs": [
    {
     "name": "stdout",
     "output_type": "stream",
     "text": [
      "10\n"
     ]
    }
   ],
   "source": [
    "print(a)"
   ]
  },
  {
   "cell_type": "code",
   "execution_count": null,
   "id": "259e9773",
   "metadata": {},
   "outputs": [],
   "source": []
  },
  {
   "cell_type": "code",
   "execution_count": 6,
   "id": "456b66b3",
   "metadata": {},
   "outputs": [],
   "source": [
    "# numpy   : numarical python\n"
   ]
  },
  {
   "cell_type": "code",
   "execution_count": 7,
   "id": "847e37d9",
   "metadata": {},
   "outputs": [],
   "source": [
    "a = [1, 2, 3, 4, 5]"
   ]
  },
  {
   "cell_type": "code",
   "execution_count": 8,
   "id": "8f3d5e69",
   "metadata": {},
   "outputs": [
    {
     "data": {
      "text/plain": [
       "list"
      ]
     },
     "execution_count": 8,
     "metadata": {},
     "output_type": "execute_result"
    }
   ],
   "source": [
    "type(a)"
   ]
  },
  {
   "cell_type": "code",
   "execution_count": 9,
   "id": "f24b65b3",
   "metadata": {},
   "outputs": [],
   "source": [
    "lst = [1, 2, 3, \"hlo\", 100.9]"
   ]
  },
  {
   "cell_type": "code",
   "execution_count": 10,
   "id": "05555ab2",
   "metadata": {},
   "outputs": [
    {
     "data": {
      "text/plain": [
       "list"
      ]
     },
     "execution_count": 10,
     "metadata": {},
     "output_type": "execute_result"
    }
   ],
   "source": [
    "type(lst)"
   ]
  },
  {
   "cell_type": "code",
   "execution_count": 11,
   "id": "54b9b1af",
   "metadata": {},
   "outputs": [],
   "source": [
    "# numpy : python, c\n",
    "# 50x"
   ]
  },
  {
   "cell_type": "code",
   "execution_count": 12,
   "id": "e3c6eae2",
   "metadata": {},
   "outputs": [],
   "source": [
    "# objects"
   ]
  },
  {
   "cell_type": "code",
   "execution_count": 13,
   "id": "76a9fec3",
   "metadata": {},
   "outputs": [
    {
     "name": "stdout",
     "output_type": "stream",
     "text": [
      "Defaulting to user installation because normal site-packages is not writeable\n",
      "Requirement already satisfied: numpy in /home/krissroot/.local/lib/python3.10/site-packages (1.24.3)\n"
     ]
    }
   ],
   "source": [
    "!pip install numpy"
   ]
  },
  {
   "cell_type": "code",
   "execution_count": null,
   "id": "4716a61e",
   "metadata": {},
   "outputs": [],
   "source": []
  },
  {
   "cell_type": "code",
   "execution_count": 14,
   "id": "530fd726",
   "metadata": {},
   "outputs": [],
   "source": [
    "import numpy as np"
   ]
  },
  {
   "cell_type": "code",
   "execution_count": 15,
   "id": "e89ae76c",
   "metadata": {},
   "outputs": [],
   "source": [
    "arr = np.array(12)"
   ]
  },
  {
   "cell_type": "code",
   "execution_count": 16,
   "id": "0509855c",
   "metadata": {},
   "outputs": [
    {
     "data": {
      "text/plain": [
       "numpy.ndarray"
      ]
     },
     "execution_count": 16,
     "metadata": {},
     "output_type": "execute_result"
    }
   ],
   "source": [
    "type(arr)"
   ]
  },
  {
   "cell_type": "code",
   "execution_count": 18,
   "id": "cab2294d",
   "metadata": {},
   "outputs": [],
   "source": [
    "arr = np.array([2, 3, 4, 5, 1])"
   ]
  },
  {
   "cell_type": "code",
   "execution_count": 19,
   "id": "3121075b",
   "metadata": {},
   "outputs": [
    {
     "data": {
      "text/plain": [
       "array([2, 3, 4, 5, 1])"
      ]
     },
     "execution_count": 19,
     "metadata": {},
     "output_type": "execute_result"
    }
   ],
   "source": [
    "arr"
   ]
  },
  {
   "cell_type": "code",
   "execution_count": 20,
   "id": "3a1a97d7",
   "metadata": {},
   "outputs": [
    {
     "data": {
      "text/plain": [
       "1"
      ]
     },
     "execution_count": 20,
     "metadata": {},
     "output_type": "execute_result"
    }
   ],
   "source": [
    "arr.ndim"
   ]
  },
  {
   "cell_type": "code",
   "execution_count": 22,
   "id": "0f01487a",
   "metadata": {},
   "outputs": [],
   "source": [
    "arr1 = np.array([[2, 3, 4, 5, 2, 8], [3, 4, 5, 6, 7, 0]])"
   ]
  },
  {
   "cell_type": "code",
   "execution_count": 24,
   "id": "d41e5bd0",
   "metadata": {},
   "outputs": [
    {
     "data": {
      "text/plain": [
       "array([[2, 3, 4, 5, 2, 8],\n",
       "       [3, 4, 5, 6, 7, 0]])"
      ]
     },
     "execution_count": 24,
     "metadata": {},
     "output_type": "execute_result"
    }
   ],
   "source": [
    "arr1"
   ]
  },
  {
   "cell_type": "code",
   "execution_count": 25,
   "id": "75842b95",
   "metadata": {},
   "outputs": [
    {
     "data": {
      "text/plain": [
       "2"
      ]
     },
     "execution_count": 25,
     "metadata": {},
     "output_type": "execute_result"
    }
   ],
   "source": [
    "arr1.ndim"
   ]
  },
  {
   "cell_type": "code",
   "execution_count": 26,
   "id": "2367a797",
   "metadata": {},
   "outputs": [],
   "source": [
    "arr2 = np.array([[[1, 2, 3, 4], [5, 6, 7, 8]], [[23, 45, 23, 23], [3, 4, 5, 6]]])"
   ]
  },
  {
   "cell_type": "code",
   "execution_count": 27,
   "id": "02228540",
   "metadata": {},
   "outputs": [
    {
     "data": {
      "text/plain": [
       "array([[[ 1,  2,  3,  4],\n",
       "        [ 5,  6,  7,  8]],\n",
       "\n",
       "       [[23, 45, 23, 23],\n",
       "        [ 3,  4,  5,  6]]])"
      ]
     },
     "execution_count": 27,
     "metadata": {},
     "output_type": "execute_result"
    }
   ],
   "source": [
    "arr2\n"
   ]
  },
  {
   "cell_type": "code",
   "execution_count": 28,
   "id": "86eeba38",
   "metadata": {},
   "outputs": [
    {
     "data": {
      "text/plain": [
       "3"
      ]
     },
     "execution_count": 28,
     "metadata": {},
     "output_type": "execute_result"
    }
   ],
   "source": [
    "arr2.ndim"
   ]
  },
  {
   "cell_type": "code",
   "execution_count": null,
   "id": "d8e8592e",
   "metadata": {},
   "outputs": [],
   "source": []
  },
  {
   "cell_type": "code",
   "execution_count": 43,
   "id": "9f6e6fdd",
   "metadata": {},
   "outputs": [],
   "source": [
    "ar = np.array([2, 3, 4, 5, 2, 12])"
   ]
  },
  {
   "cell_type": "code",
   "execution_count": 44,
   "id": "889f2466",
   "metadata": {},
   "outputs": [],
   "source": [
    "# ar\n",
    "# ar.ndim"
   ]
  },
  {
   "cell_type": "code",
   "execution_count": 45,
   "id": "aec345f9",
   "metadata": {},
   "outputs": [
    {
     "data": {
      "text/plain": [
       "5"
      ]
     },
     "execution_count": 45,
     "metadata": {},
     "output_type": "execute_result"
    }
   ],
   "source": [
    "ar[4] + ar[1]"
   ]
  },
  {
   "cell_type": "code",
   "execution_count": 47,
   "id": "6d0da8b5",
   "metadata": {},
   "outputs": [
    {
     "data": {
      "text/plain": [
       "array([3, 4, 5, 2])"
      ]
     },
     "execution_count": 47,
     "metadata": {},
     "output_type": "execute_result"
    }
   ],
   "source": [
    "ar[1 : 5]"
   ]
  },
  {
   "cell_type": "code",
   "execution_count": 48,
   "id": "35fd99a8",
   "metadata": {},
   "outputs": [],
   "source": [
    "# [strat : end : incremnet]\n",
    "\n",
    "# strat = 0\n",
    "# end = n- 1\n",
    "# increment = 1"
   ]
  },
  {
   "cell_type": "code",
   "execution_count": 49,
   "id": "043ff532",
   "metadata": {},
   "outputs": [
    {
     "data": {
      "text/plain": [
       "array([12,  2,  5,  4,  3,  2])"
      ]
     },
     "execution_count": 49,
     "metadata": {},
     "output_type": "execute_result"
    }
   ],
   "source": [
    "ar[: : -1]"
   ]
  },
  {
   "cell_type": "code",
   "execution_count": null,
   "id": "a04079f9",
   "metadata": {},
   "outputs": [],
   "source": []
  },
  {
   "cell_type": "code",
   "execution_count": null,
   "id": "8195a8ce",
   "metadata": {},
   "outputs": [],
   "source": []
  },
  {
   "cell_type": "code",
   "execution_count": 52,
   "id": "5189dcde",
   "metadata": {},
   "outputs": [],
   "source": [
    "x = np.array([[2, 3, 4, 5, 1], [3, 4, 5, 2, 4]])"
   ]
  },
  {
   "cell_type": "code",
   "execution_count": 55,
   "id": "75f4db30",
   "metadata": {},
   "outputs": [
    {
     "data": {
      "text/plain": [
       "2"
      ]
     },
     "execution_count": 55,
     "metadata": {},
     "output_type": "execute_result"
    }
   ],
   "source": [
    "x[1][3]"
   ]
  },
  {
   "cell_type": "code",
   "execution_count": 57,
   "id": "98b589c3",
   "metadata": {},
   "outputs": [
    {
     "data": {
      "text/plain": [
       "5"
      ]
     },
     "execution_count": 57,
     "metadata": {},
     "output_type": "execute_result"
    }
   ],
   "source": [
    "x[0][3]"
   ]
  },
  {
   "cell_type": "code",
   "execution_count": 58,
   "id": "83a0c673",
   "metadata": {},
   "outputs": [],
   "source": [
    "y = np.array([[[1, 2, 3], [4, 5, 6]], [[7, 8, 9], [10, 11, 12]]])"
   ]
  },
  {
   "cell_type": "code",
   "execution_count": 59,
   "id": "7b7cdd07",
   "metadata": {},
   "outputs": [
    {
     "data": {
      "text/plain": [
       "3"
      ]
     },
     "execution_count": 59,
     "metadata": {},
     "output_type": "execute_result"
    }
   ],
   "source": [
    "y.ndim"
   ]
  },
  {
   "cell_type": "code",
   "execution_count": 63,
   "id": "179dd6c3",
   "metadata": {},
   "outputs": [
    {
     "data": {
      "text/plain": [
       "10"
      ]
     },
     "execution_count": 63,
     "metadata": {},
     "output_type": "execute_result"
    }
   ],
   "source": [
    "y[1][1][0]"
   ]
  },
  {
   "cell_type": "code",
   "execution_count": 65,
   "id": "5d627058",
   "metadata": {},
   "outputs": [
    {
     "data": {
      "text/plain": [
       "array([11, 12])"
      ]
     },
     "execution_count": 65,
     "metadata": {},
     "output_type": "execute_result"
    }
   ],
   "source": [
    "y[1][1][1 : ]"
   ]
  },
  {
   "cell_type": "code",
   "execution_count": null,
   "id": "f7c12c24",
   "metadata": {},
   "outputs": [],
   "source": []
  }
 ],
 "metadata": {
  "kernelspec": {
   "display_name": "Python 3 (ipykernel)",
   "language": "python",
   "name": "python3"
  },
  "language_info": {
   "codemirror_mode": {
    "name": "ipython",
    "version": 3
   },
   "file_extension": ".py",
   "mimetype": "text/x-python",
   "name": "python",
   "nbconvert_exporter": "python",
   "pygments_lexer": "ipython3",
   "version": "3.10.12"
  }
 },
 "nbformat": 4,
 "nbformat_minor": 5
}
