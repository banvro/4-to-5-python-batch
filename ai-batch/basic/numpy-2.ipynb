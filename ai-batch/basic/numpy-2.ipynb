{
 "cells": [
  {
   "cell_type": "code",
   "execution_count": 2,
   "id": "bb91fdb6-a029-4b7f-a683-032d020eeb74",
   "metadata": {},
   "outputs": [],
   "source": [
    "# numpy : \n",
    "\n",
    "# ndarray : array()\n",
    "\n"
   ]
  },
  {
   "cell_type": "code",
   "execution_count": 4,
   "id": "7206350a-80af-48e2-839c-db6a072896eb",
   "metadata": {},
   "outputs": [
    {
     "name": "stdout",
     "output_type": "stream",
     "text": [
      "Collecting numpy\n",
      "  Obtaining dependency information for numpy from https://files.pythonhosted.org/packages/98/d7/1cc7a11118408ad21a5379ff2a4e0b0e27504c68ef6e808ebaa90ee95902/numpy-1.26.0-cp312-cp312-win_amd64.whl.metadata\n",
      "  Downloading numpy-1.26.0-cp312-cp312-win_amd64.whl.metadata (61 kB)\n",
      "     ---------------------------------------- 0.0/61.1 kB ? eta -:--:--\n",
      "     ------ --------------------------------- 10.2/61.1 kB ? eta -:--:--\n",
      "     ------------ ------------------------- 20.5/61.1 kB 217.9 kB/s eta 0:00:01\n",
      "     ------------------- ------------------ 30.7/61.1 kB 220.2 kB/s eta 0:00:01\n",
      "     ------------------------------- ------ 51.2/61.1 kB 292.6 kB/s eta 0:00:01\n",
      "     ------------------------------- ------ 51.2/61.1 kB 292.6 kB/s eta 0:00:01\n",
      "     ------------------------------- ------ 51.2/61.1 kB 292.6 kB/s eta 0:00:01\n",
      "     ------------------------------- ------ 51.2/61.1 kB 292.6 kB/s eta 0:00:01\n",
      "     ------------------------------- ------ 51.2/61.1 kB 292.6 kB/s eta 0:00:01\n",
      "     ------------------------------- ------ 51.2/61.1 kB 292.6 kB/s eta 0:00:01\n",
      "     ------------------------------- ------ 51.2/61.1 kB 292.6 kB/s eta 0:00:01\n",
      "     -------------------------------------- 61.1/61.1 kB 116.3 kB/s eta 0:00:00\n",
      "Downloading numpy-1.26.0-cp312-cp312-win_amd64.whl (15.5 MB)\n",
      "   ---------------------------------------- 0.0/15.5 MB ? eta -:--:--\n",
      "   ---------------------------------------- 0.0/15.5 MB 1.9 MB/s eta 0:00:09\n",
      "   ---------------------------------------- 0.2/15.5 MB 2.1 MB/s eta 0:00:08\n",
      "    --------------------------------------- 0.3/15.5 MB 2.1 MB/s eta 0:00:08\n",
      "   - -------------------------------------- 0.4/15.5 MB 2.2 MB/s eta 0:00:07\n",
      "   - -------------------------------------- 0.8/15.5 MB 3.2 MB/s eta 0:00:05\n",
      "   --- ------------------------------------ 1.5/15.5 MB 5.1 MB/s eta 0:00:03\n",
      "   ------ --------------------------------- 2.6/15.5 MB 7.8 MB/s eta 0:00:02\n",
      "   ---------- ----------------------------- 4.0/15.5 MB 10.7 MB/s eta 0:00:02\n",
      "   -------------- ------------------------- 5.5/15.5 MB 12.9 MB/s eta 0:00:01\n",
      "   ----------------- ---------------------- 7.0/15.5 MB 14.4 MB/s eta 0:00:01\n",
      "   -------------------- ------------------- 7.9/15.5 MB 15.3 MB/s eta 0:00:01\n",
      "   -------------------- ------------------- 7.9/15.5 MB 15.4 MB/s eta 0:00:01\n",
      "   -------------------- ------------------- 7.9/15.5 MB 15.4 MB/s eta 0:00:01\n",
      "   -------------------- ------------------- 8.0/15.5 MB 12.1 MB/s eta 0:00:01\n",
      "   -------------------- ------------------- 8.0/15.5 MB 12.1 MB/s eta 0:00:01\n",
      "   --------------------- ------------------ 8.5/15.5 MB 11.6 MB/s eta 0:00:01\n",
      "   ---------------------- ----------------- 8.7/15.5 MB 11.1 MB/s eta 0:00:01\n",
      "   ----------------------- ---------------- 8.9/15.5 MB 10.6 MB/s eta 0:00:01\n",
      "   ----------------------- ---------------- 9.0/15.5 MB 10.1 MB/s eta 0:00:01\n",
      "   ------------------------ --------------- 9.3/15.5 MB 9.8 MB/s eta 0:00:01\n",
      "   ------------------------ --------------- 9.6/15.5 MB 9.6 MB/s eta 0:00:01\n",
      "   ------------------------- -------------- 9.9/15.5 MB 9.4 MB/s eta 0:00:01\n",
      "   -------------------------- ------------- 10.1/15.5 MB 9.1 MB/s eta 0:00:01\n",
      "   -------------------------- ------------- 10.4/15.5 MB 9.4 MB/s eta 0:00:01\n",
      "   --------------------------- ------------ 10.6/15.5 MB 9.8 MB/s eta 0:00:01\n",
      "   ---------------------------- ----------- 10.9/15.5 MB 9.8 MB/s eta 0:00:01\n",
      "   ---------------------------- ----------- 11.2/15.5 MB 9.5 MB/s eta 0:00:01\n",
      "   ----------------------------- ---------- 11.5/15.5 MB 9.4 MB/s eta 0:00:01\n",
      "   ------------------------------ --------- 11.7/15.5 MB 9.1 MB/s eta 0:00:01\n",
      "   ------------------------------- -------- 12.1/15.5 MB 8.8 MB/s eta 0:00:01\n",
      "   -------------------------------- ------- 12.4/15.5 MB 8.6 MB/s eta 0:00:01\n",
      "   -------------------------------- ------- 12.7/15.5 MB 8.4 MB/s eta 0:00:01\n",
      "   --------------------------------- ------ 13.1/15.5 MB 8.2 MB/s eta 0:00:01\n",
      "   ---------------------------------- ----- 13.4/15.5 MB 7.8 MB/s eta 0:00:01\n",
      "   ----------------------------------- ---- 13.6/15.5 MB 7.6 MB/s eta 0:00:01\n",
      "   -------------------------------------- - 14.8/15.5 MB 7.6 MB/s eta 0:00:01\n",
      "   ---------------------------------------  15.5/15.5 MB 7.6 MB/s eta 0:00:01\n",
      "   ---------------------------------------  15.5/15.5 MB 7.6 MB/s eta 0:00:01\n",
      "   ---------------------------------------  15.5/15.5 MB 7.6 MB/s eta 0:00:01\n",
      "   ---------------------------------------  15.5/15.5 MB 7.6 MB/s eta 0:00:01\n",
      "   ---------------------------------------  15.5/15.5 MB 7.6 MB/s eta 0:00:01\n",
      "   ---------------------------------------  15.5/15.5 MB 7.6 MB/s eta 0:00:01\n",
      "   ---------------------------------------  15.5/15.5 MB 7.6 MB/s eta 0:00:01\n",
      "   ---------------------------------------  15.5/15.5 MB 7.6 MB/s eta 0:00:01\n",
      "   ---------------------------------------- 15.5/15.5 MB 6.1 MB/s eta 0:00:00\n",
      "Installing collected packages: numpy\n",
      "Successfully installed numpy-1.26.0\n"
     ]
    }
   ],
   "source": [
    "!pip install numpy"
   ]
  },
  {
   "cell_type": "code",
   "execution_count": 5,
   "id": "0f621405-808e-4836-b1f5-6f608d1d3f31",
   "metadata": {},
   "outputs": [],
   "source": [
    "import numpy as np"
   ]
  },
  {
   "cell_type": "code",
   "execution_count": 6,
   "id": "dc485a76-912a-4ee0-9150-16f55b2c336b",
   "metadata": {},
   "outputs": [],
   "source": [
    "ar = np.array([1, 2, 3, 4])"
   ]
  },
  {
   "cell_type": "code",
   "execution_count": 8,
   "id": "f7919c6a-243e-432f-ba66-6055a13ccbfe",
   "metadata": {},
   "outputs": [
    {
     "data": {
      "text/plain": [
       "array([1, 2, 3, 4])"
      ]
     },
     "execution_count": 8,
     "metadata": {},
     "output_type": "execute_result"
    }
   ],
   "source": [
    "ar"
   ]
  },
  {
   "cell_type": "code",
   "execution_count": 10,
   "id": "579e04b1-dc1a-4bd0-b0bc-a0182bb8eaeb",
   "metadata": {},
   "outputs": [
    {
     "data": {
      "text/plain": [
       "int"
      ]
     },
     "execution_count": 10,
     "metadata": {},
     "output_type": "execute_result"
    }
   ],
   "source": [
    "type(ar)"
   ]
  },
  {
   "cell_type": "code",
   "execution_count": 11,
   "id": "c92804e5-67e4-491d-a815-695431501a6e",
   "metadata": {},
   "outputs": [
    {
     "data": {
      "text/plain": [
       "1"
      ]
     },
     "execution_count": 11,
     "metadata": {},
     "output_type": "execute_result"
    }
   ],
   "source": [
    "ar.ndim"
   ]
  },
  {
   "cell_type": "code",
   "execution_count": 14,
   "id": "e0227d40-5e4b-4f3e-84bc-be1ac0b4f9f4",
   "metadata": {},
   "outputs": [],
   "source": [
    "zx = np.array([[[2, 3, 4], [3, 4, 5]], [[4, 2, 3], [0, 6, 7]]])"
   ]
  },
  {
   "cell_type": "code",
   "execution_count": 15,
   "id": "f4b50828-9ad1-4d75-8595-207810923305",
   "metadata": {},
   "outputs": [
    {
     "data": {
      "text/plain": [
       "3"
      ]
     },
     "execution_count": 15,
     "metadata": {},
     "output_type": "execute_result"
    }
   ],
   "source": [
    "zx.ndim"
   ]
  },
  {
   "cell_type": "code",
   "execution_count": 16,
   "id": "5eeb67d6-bd16-4435-9291-c6f8d9f0b026",
   "metadata": {},
   "outputs": [
    {
     "data": {
      "text/plain": [
       "array([[[2, 3, 4],\n",
       "        [3, 4, 5]],\n",
       "\n",
       "       [[4, 2, 3],\n",
       "        [0, 6, 7]]])"
      ]
     },
     "execution_count": 16,
     "metadata": {},
     "output_type": "execute_result"
    }
   ],
   "source": [
    "zx"
   ]
  },
  {
   "cell_type": "code",
   "execution_count": 17,
   "id": "ee96e9f8-2e4e-4bdf-a5f3-434be03d5fd6",
   "metadata": {},
   "outputs": [],
   "source": [
    "# shape\n",
    "\n",
    "a = np.array([[3, 4, 5], [6, 7, 8]])"
   ]
  },
  {
   "cell_type": "code",
   "execution_count": 18,
   "id": "8137047c-5394-48d3-8a15-93e2b6a18988",
   "metadata": {},
   "outputs": [
    {
     "data": {
      "text/plain": [
       "(2, 3)"
      ]
     },
     "execution_count": 18,
     "metadata": {},
     "output_type": "execute_result"
    }
   ],
   "source": [
    "a.shape"
   ]
  },
  {
   "cell_type": "code",
   "execution_count": 19,
   "id": "ffbd85b9-7056-4e06-a26f-5b7395ec643b",
   "metadata": {},
   "outputs": [
    {
     "data": {
      "text/plain": [
       "array([[3, 4, 5],\n",
       "       [6, 7, 8]])"
      ]
     },
     "execution_count": 19,
     "metadata": {},
     "output_type": "execute_result"
    }
   ],
   "source": [
    "a"
   ]
  },
  {
   "cell_type": "code",
   "execution_count": 20,
   "id": "fd9e14ea-8d84-4ed2-9875-9ad88e132440",
   "metadata": {},
   "outputs": [],
   "source": [
    "zx = np.array([[[2, 3, 4], [3, 4, 5]], [[4, 2, 3], [0, 6, 7]]])"
   ]
  },
  {
   "cell_type": "code",
   "execution_count": 21,
   "id": "5b3e6e1b-d93d-42af-9ea7-218fc55c55f4",
   "metadata": {},
   "outputs": [
    {
     "data": {
      "text/plain": [
       "(2, 2, 3)"
      ]
     },
     "execution_count": 21,
     "metadata": {},
     "output_type": "execute_result"
    }
   ],
   "source": [
    "zx.shape"
   ]
  },
  {
   "cell_type": "code",
   "execution_count": 22,
   "id": "d836e0bb-236f-4047-8328-ef42aa48150c",
   "metadata": {},
   "outputs": [
    {
     "data": {
      "text/plain": [
       "array([[[2, 3, 4],\n",
       "        [3, 4, 5]],\n",
       "\n",
       "       [[4, 2, 3],\n",
       "        [0, 6, 7]]])"
      ]
     },
     "execution_count": 22,
     "metadata": {},
     "output_type": "execute_result"
    }
   ],
   "source": [
    "zx"
   ]
  },
  {
   "cell_type": "code",
   "execution_count": 39,
   "id": "a2b1a823-f33f-4a08-ad00-383eb608fefc",
   "metadata": {},
   "outputs": [],
   "source": [
    "arr = np.array([1, 2, 3, 4, 5, 6, 7, 8, 9, 10])"
   ]
  },
  {
   "cell_type": "code",
   "execution_count": 40,
   "id": "a0764c0d-b8fe-495d-b41c-3bae86f3693c",
   "metadata": {},
   "outputs": [
    {
     "data": {
      "text/plain": [
       "1"
      ]
     },
     "execution_count": 40,
     "metadata": {},
     "output_type": "execute_result"
    }
   ],
   "source": [
    "arr.ndim"
   ]
  },
  {
   "cell_type": "code",
   "execution_count": 41,
   "id": "4784ad98-7378-40c6-b61d-64f23d681c87",
   "metadata": {},
   "outputs": [
    {
     "data": {
      "text/plain": [
       "array([ 1,  2,  3,  4,  5,  6,  7,  8,  9, 10])"
      ]
     },
     "execution_count": 41,
     "metadata": {},
     "output_type": "execute_result"
    }
   ],
   "source": [
    "arr"
   ]
  },
  {
   "cell_type": "code",
   "execution_count": 42,
   "id": "a625c0ae-127c-4af5-a12d-cb83ea8ba21d",
   "metadata": {},
   "outputs": [],
   "source": [
    "# reshape\n",
    "zx = arr.reshape(5, 2)"
   ]
  },
  {
   "cell_type": "code",
   "execution_count": 43,
   "id": "6c34488d-6ff0-4024-98da-b275dc1255ed",
   "metadata": {},
   "outputs": [
    {
     "data": {
      "text/plain": [
       "array([[ 1,  2],\n",
       "       [ 3,  4],\n",
       "       [ 5,  6],\n",
       "       [ 7,  8],\n",
       "       [ 9, 10]])"
      ]
     },
     "execution_count": 43,
     "metadata": {},
     "output_type": "execute_result"
    }
   ],
   "source": [
    "zx"
   ]
  },
  {
   "cell_type": "code",
   "execution_count": 46,
   "id": "d67b6036-0eef-4c0f-876f-c8d01eec7509",
   "metadata": {},
   "outputs": [],
   "source": [
    "a = np.array([1, 2, 3, 4, 5])\n",
    "b = np.array([6, 7, 8, 9, 2])"
   ]
  },
  {
   "cell_type": "code",
   "execution_count": 50,
   "id": "bcace4b0-7d13-437d-8b24-0fada249ddc1",
   "metadata": {},
   "outputs": [],
   "source": [
    "zx = a + b"
   ]
  },
  {
   "cell_type": "code",
   "execution_count": 51,
   "id": "51ed16af-0197-409c-9e34-0456649e9d8c",
   "metadata": {},
   "outputs": [
    {
     "data": {
      "text/plain": [
       "array([ 7,  9, 11, 13,  7])"
      ]
     },
     "execution_count": 51,
     "metadata": {},
     "output_type": "execute_result"
    }
   ],
   "source": [
    "zx"
   ]
  },
  {
   "cell_type": "code",
   "execution_count": 56,
   "id": "5f956f7c-d7aa-4c34-b30c-0c7be0f57af8",
   "metadata": {},
   "outputs": [],
   "source": [
    "c = np.concatenate((a, b), axis = 0)"
   ]
  },
  {
   "cell_type": "code",
   "execution_count": 57,
   "id": "083cc740-f685-48a3-b227-c8151d4e4c60",
   "metadata": {},
   "outputs": [
    {
     "data": {
      "text/plain": [
       "array([1, 2, 3, 4, 5, 6, 7, 8, 9, 2])"
      ]
     },
     "execution_count": 57,
     "metadata": {},
     "output_type": "execute_result"
    }
   ],
   "source": [
    "c"
   ]
  },
  {
   "cell_type": "code",
   "execution_count": null,
   "id": "c32ad6a1-7871-416d-a667-05dee374fca6",
   "metadata": {},
   "outputs": [],
   "source": []
  },
  {
   "cell_type": "code",
   "execution_count": 60,
   "id": "6994fac5-207b-4c42-b3b9-f312799b91cd",
   "metadata": {},
   "outputs": [],
   "source": [
    "arr = np.array([1, 2, 3, 8, 4, 5, 6, 7, 8, 9, 10, 8])"
   ]
  },
  {
   "cell_type": "code",
   "execution_count": 62,
   "id": "33a84814-05d3-49de-960e-b772a1804565",
   "metadata": {},
   "outputs": [
    {
     "data": {
      "text/plain": [
       "(array([ 3,  8, 11], dtype=int64),)"
      ]
     },
     "execution_count": 62,
     "metadata": {},
     "output_type": "execute_result"
    }
   ],
   "source": [
    "np.where(arr == 8)"
   ]
  },
  {
   "cell_type": "code",
   "execution_count": 63,
   "id": "b1f6d91f-1a4f-46a1-85e8-b43086570760",
   "metadata": {},
   "outputs": [],
   "source": [
    "a = np.array([3, 5, 1, 3, 7, 5, 6, 7, 3, 5, 6, 3, 11])"
   ]
  },
  {
   "cell_type": "code",
   "execution_count": 64,
   "id": "e533d916-4127-4875-909a-d3559bf83592",
   "metadata": {},
   "outputs": [
    {
     "data": {
      "text/plain": [
       "array([ 3,  5,  1,  3,  7,  5,  6,  7,  3,  5,  6,  3, 11])"
      ]
     },
     "execution_count": 64,
     "metadata": {},
     "output_type": "execute_result"
    }
   ],
   "source": [
    "a"
   ]
  },
  {
   "cell_type": "code",
   "execution_count": 65,
   "id": "97078717-ae27-437c-bb01-966de45e8fe8",
   "metadata": {},
   "outputs": [],
   "source": [
    "zx = np.sort(a)"
   ]
  },
  {
   "cell_type": "code",
   "execution_count": 66,
   "id": "399f1dc2-6830-4c3b-8775-4c6e7e570197",
   "metadata": {},
   "outputs": [
    {
     "data": {
      "text/plain": [
       "array([ 1,  3,  3,  3,  3,  5,  5,  5,  6,  6,  7,  7, 11])"
      ]
     },
     "execution_count": 66,
     "metadata": {},
     "output_type": "execute_result"
    }
   ],
   "source": [
    "zx"
   ]
  },
  {
   "cell_type": "code",
   "execution_count": null,
   "id": "58a6cf02-c82f-4be4-bb5e-faea239ce9cd",
   "metadata": {},
   "outputs": [],
   "source": []
  }
 ],
 "metadata": {
  "kernelspec": {
   "display_name": "Python 3 (ipykernel)",
   "language": "python",
   "name": "python3"
  },
  "language_info": {
   "codemirror_mode": {
    "name": "ipython",
    "version": 3
   },
   "file_extension": ".py",
   "mimetype": "text/x-python",
   "name": "python",
   "nbconvert_exporter": "python",
   "pygments_lexer": "ipython3",
   "version": "3.12.0"
  }
 },
 "nbformat": 4,
 "nbformat_minor": 5
}
